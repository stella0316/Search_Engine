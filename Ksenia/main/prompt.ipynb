{
 "cells": [
  {
   "cell_type": "code",
   "execution_count": 51,
   "metadata": {
    "collapsed": true
   },
   "outputs": [],
   "source": [
    "def prompt():\n",
    "    \n",
    "    while True:\n",
    "        search_type = input(\"Select type(s) of search you want to do: 1 = Title, 2= Column, \\\n",
    "                            3= Content. Separate by space. You can select multiple\")\n",
    "\n",
    "\n",
    "        values = search_type.split(',')\n",
    "        wrong=False\n",
    "\n",
    "        for i in values:\n",
    "\n",
    "            if i not in ['1','2','3']:\n",
    "                print('Input can only be integers: 1,2,3 separated by comma')\n",
    "                wrong = True\n",
    "                \n",
    "            if wrong==True:\n",
    "                continue\n",
    "                \n",
    "        if wrong==False:\n",
    "            break\n",
    "    \n",
    "            \n",
    "    keywords = input(\"Enter keywords for your search separated by comma\")\n",
    "\n",
    "    while len(keywords) == 0 or keywords == ' ':\n",
    "        print('Please enter valid input')\n",
    "        keywords = input(\"Enter keywords for your search separated by comma\")\n",
    "\n",
    "    words = keywords.split(',')\n",
    "\n",
    "    #Filter\n",
    "    row_filter = input(\"Filter. Please enter minimum number of rows per table. Enter n to ignore\")\n",
    "\n",
    "    while len(row_filter) != 1:\n",
    "        print('Please enter valid input')\n",
    "        row_filter = input(\"Filter. Please enter minimum number of rows per table. Enter n to ignore\")\n",
    "\n",
    "    if row_filter == 'n':\n",
    "        pass\n",
    "    else:\n",
    "        while True:\n",
    "            try:\n",
    "                row_filter = int(row_filter)\n",
    "                break\n",
    "            except ValueError:\n",
    "                print('Please enter valid input')\n",
    "                row_filter = input(\"Filter. Please enter minimum number of rows per table. Enter n to ignore\")\n",
    "                \n",
    "    return search_type, words, row_filter\n",
    "\n",
    "                    \n",
    "                  \n",
    "                    "
   ]
  },
  {
   "cell_type": "code",
   "execution_count": 50,
   "metadata": {},
   "outputs": [
    {
     "name": "stdout",
     "output_type": "stream",
     "text": [
      "Select type(s) of search you want to do: 1 = Title, 2= Column,                             3= Content. Separate by space. You can select multiple1,9\n",
      "Input can only be integers: 1,2,3 separated by comma\n",
      "Select type(s) of search you want to do: 1 = Title, 2= Column,                             3= Content. Separate by space. You can select multiple4\n",
      "Input can only be integers: 1,2,3 separated by comma\n",
      "Select type(s) of search you want to do: 1 = Title, 2= Column,                             3= Content. Separate by space. You can select multiple2\n",
      "Enter keywords for your search separated by commakji\n",
      "Filter. Please enter minimum number of rows per table. Enter n to ignorekseni\n",
      "Please enter valid input\n",
      "Filter. Please enter minimum number of rows per table. Enter n to ignoren\n"
     ]
    }
   ],
   "source": [
    "prompt()"
   ]
  },
  {
   "cell_type": "code",
   "execution_count": null,
   "metadata": {
    "collapsed": true
   },
   "outputs": [],
   "source": [
    "def main():\n",
    "    '''\n",
    "    Run the program!\n",
    "    '''\n",
    "    search_type, keywords, row_filter = prompt()\n",
    "    \n",
    "    for search in search_type:\n",
    "        if search == '1':\n",
    "            title_result = title_search(keywords,row_filter)\n",
    "            \n",
    "        elif search == '2':\n",
    "            column_result = column_search(keywords,row_filter)\n",
    "            \n",
    "        else:\n",
    "            content_result = content_search(keywords,row_filter)\n",
    "            \n",
    "    print('Your results', '\\n', 'titles: ', title_result, '\\n', 'columns:')\n",
    "    "
   ]
  },
  {
   "cell_type": "code",
   "execution_count": null,
   "metadata": {
    "collapsed": true
   },
   "outputs": [],
   "source": [
    "f__name__== \"__main__\":\n",
    "    main()"
   ]
  }
 ],
 "metadata": {
  "kernelspec": {
   "display_name": "Python 3",
   "language": "python",
   "name": "python3"
  },
  "language_info": {
   "codemirror_mode": {
    "name": "ipython",
    "version": 3
   },
   "file_extension": ".py",
   "mimetype": "text/x-python",
   "name": "python",
   "nbconvert_exporter": "python",
   "pygments_lexer": "ipython3",
   "version": "3.6.1"
  }
 },
 "nbformat": 4,
 "nbformat_minor": 2
}
