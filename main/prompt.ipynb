{
 "cells": [
  {
   "cell_type": "code",
   "execution_count": 106,
   "metadata": {
    "collapsed": true
   },
   "outputs": [],
   "source": [
    "import pandas as pd\n",
    "import os\n",
    "import sys\n",
    "from pyspark.sql.functions import format_string,date_format\n",
    "from pyspark.sql import SparkSession"
   ]
  },
  {
   "cell_type": "code",
   "execution_count": 135,
   "metadata": {
    "collapsed": true
   },
   "outputs": [],
   "source": [
    "search_type_dict = {'1':'title_search','2':'column_search','3':'content_search'}\n",
    "function_dict = {'title_search':title_search,'column_search':column_search,'content_search':content_search}"
   ]
  },
  {
   "cell_type": "code",
   "execution_count": 14,
   "metadata": {
    "collapsed": true
   },
   "outputs": [],
   "source": [
    "def prompt():\n",
    "    \n",
    "    while True:\n",
    "        search_type = input(\"Select type(s) of search you want to do:\\n\"  \n",
    "                            \"1 = Title, 2= Column, 3= Content.\\n\" \n",
    "                            \"Separate by space. You can select multiple\\n\")\n",
    "\n",
    "\n",
    "        values = search_type.split(',')\n",
    "        wrong=False\n",
    "\n",
    "        for i in values:\n",
    "\n",
    "            if i not in ['1','2','3']:\n",
    "                print('Input can only be integers: 1,2,3 separated by comma')\n",
    "                wrong = True\n",
    "                \n",
    "            if wrong==True:\n",
    "                continue\n",
    "                \n",
    "        if wrong==False:\n",
    "            break\n",
    "    \n",
    "            \n",
    "    keywords = input(\"Enter keywords for your search separated by comma\")\n",
    "\n",
    "    while len(keywords) == 0 or keywords == ' ':\n",
    "        print('Please enter valid input')\n",
    "        keywords = input(\"Enter keywords for your search separated by comma\")\n",
    "\n",
    "    words = keywords.split(',')\n",
    "\n",
    "    #Filter\n",
    "    row_filter = input(\"Filter. Please enter minimum number of rows per table. Enter n to ignore\")\n",
    "\n",
    "    while len(row_filter) != 1:\n",
    "        print('Please enter valid input')\n",
    "        row_filter = input(\"Filter. Please enter minimum number of rows per table. Enter n to ignore\")\n",
    "\n",
    "    if row_filter == 'n':\n",
    "        pass\n",
    "    else:\n",
    "        while True:\n",
    "            try:\n",
    "                row_filter = int(row_filter)\n",
    "                break\n",
    "            except ValueError:\n",
    "                print('Please enter valid input')\n",
    "                row_filter = input(\"Filter. Please enter minimum number of rows per table. Enter n to ignore\")\n",
    "                \n",
    "    return search_type, words, row_filter\n",
    "\n",
    "                    \n",
    "                  \n",
    "                    "
   ]
  },
  {
   "cell_type": "code",
   "execution_count": 136,
   "metadata": {},
   "outputs": [
    {
     "name": "stdout",
     "output_type": "stream",
     "text": [
      "Select type(s) of search you want to do:\n",
      "1 = Title, 2= Column, 3= Content.\n",
      "Separate by space. You can select multiple\n",
      "2\n",
      "Enter keywords for your search separated by commacity\n",
      "Filter. Please enter minimum number of rows per table. Enter n to ignore20\n",
      "Please enter valid input\n",
      "Filter. Please enter minimum number of rows per table. Enter n to ignore200\n",
      "Please enter valid input\n",
      "Filter. Please enter minimum number of rows per table. Enter n to ignoren\n"
     ]
    }
   ],
   "source": [
    "search_type, keywords, row_filter = prompt()"
   ]
  },
  {
   "cell_type": "code",
   "execution_count": null,
   "metadata": {
    "collapsed": true
   },
   "outputs": [],
   "source": []
  },
  {
   "cell_type": "markdown",
   "metadata": {},
   "source": [
    "    Functions to query from tables using spark.sql\n",
    "   "
   ]
  },
  {
   "cell_type": "code",
   "execution_count": null,
   "metadata": {
    "collapsed": true
   },
   "outputs": [],
   "source": [
    "spark = SparkSession \\\n",
    "        .builder \\\n",
    "        .appName(\"Python Spark Search Engine Project\") \\\n",
    "        .config(\"spark.some.config.option\", \"some-value\") \\\n",
    "        .getOrCreate()\n",
    "        \n",
    "sc = spark.sparkContext\n",
    "\n",
    "#read all inverted_index files into rdd\n",
    "#all inverted_index should have the following format:\n",
    "#key\\tcount\\t(doc1,doc2,...)\n",
    "title_line = sc.textFile(sys.argv[1])\n",
    "column_line = sc.textFile(sys.argv[2])\n",
    "content_line = sc.textFile(sys.argv[3])\n",
    "\n",
    "#map to rdds\n",
    "title_parts = title_line.map(lambda l: l.split(\"\\t\"))\n",
    "title_rdd =  title_parts.map(lambda p: Row(key= p[0], count = int(p[1]), docs = [int(p_.replace(\"'\",'')) for p_ in p[2].split(',')]))\n",
    "\n",
    "column_parts = column_line.map(lambda l: l.split(\"\\t\"))\n",
    "column_rdd =  column_parts.map(lambda p: Row(key= p[0], count = int(p[1]), docs = [int(p_.replace(\"'\",'')) for p_ in p[2].split(',')]))\n",
    "\n",
    "content_parts = content_line.map(lambda l: l.split(\"\\t\"))\n",
    "content_rdd =  content_parts.map(lambda p: Row(key= p[0], count = int(p[1]), docs = [int(p_.replace(\"'\",'')) for p_ in p[2].split(',')]))\n",
    "\n",
    "\n",
    "#create table from rdds\n",
    "title_search_index = spark.createDataFrame(title_rdd)\n",
    "column_search_index = spark.createDataFrame(column_rdd)\n",
    "content_search_index = spark.createDataFrame(content_rdd)\n",
    "\n",
    "#create temp view\n",
    "title_search_index.createOrReplaceTempView(\"title_search_index\")\n",
    "column_search_index.createOrReplaceTempView(\"column_search_index\")\n",
    "content_search_index.createOrReplaceTempView(\"content_search_index\")\n",
    "\n",
    "\n",
    "#read master_index \n",
    "master_index = sc.textFile(sys.argv[4])\n",
    "master_index.createOrReplaceTempView(\"master_index\")\n",
    "\n",
    "#read all rdds for raw data"
   ]
  },
  {
   "cell_type": "code",
   "execution_count": null,
   "metadata": {
    "collapsed": true
   },
   "outputs": [],
   "source": []
  },
  {
   "cell_type": "code",
   "execution_count": 99,
   "metadata": {
    "collapsed": true
   },
   "outputs": [],
   "source": [
    "def getInput(search_type,words,row_filter):\n",
    "    types = search_type.split(',')\n",
    "    for t in types:\n",
    "        function_dict[search_type_dict[t]](words,row_filter)"
   ]
  },
  {
   "cell_type": "code",
   "execution_count": 202,
   "metadata": {},
   "outputs": [],
   "source": [
    "def title_search(words,row_filter):\n",
    "    if row_filter == 'n' or 'N':\n",
    "        min_row = 0\n",
    "    else:\n",
    "        min_row = int(row_filter)\n",
    "  \n",
    "    new_list = ['\"%' + w.strip().lower() + '%\"' for w in words]\n",
    "    \n",
    "    query_1 = \"SELECT docs FROM title_search_index WHERE key like\"  \n",
    "    query_2 = ' OR '.join(new_list)\n",
    "    query = query_1 + query_2 \n",
    "    \n",
    "    ID_list = spark.sql(query).collect()[0][0]\n",
    "    \n",
    "    query_3 = \"AND File_Length >= \" + row_filter  \n",
    "    result = master_index.where(col(\"Doc_ID\").isin(ID_list)).filter(query_3).select(master_index.Table_Name)\n",
    "    \n",
    "    return result.show()"
   ]
  },
  {
   "cell_type": "code",
   "execution_count": 205,
   "metadata": {
    "collapsed": true
   },
   "outputs": [],
   "source": [
    "def column_search(words,row_filter):\n",
    "    if row_filter == 'n' or 'N':\n",
    "        min_row = 0\n",
    "    else:\n",
    "        min_row = int(row_filter)\n",
    "    \n",
    "    new_list = ['\"%' + w.strip().lower() + '%\"' for w in words]\n",
    "    query_1 = \"SELECT docs FROM column_search_index WHERE key like\"  \n",
    "    query_2 = ' OR '.join(new_list)\n",
    "    query = query_1 + query_2 \n",
    "    \n",
    "    ID_list = spark.sql(query).collect()[0][0]\n",
    "    \n",
    "    query_3 = \"AND File_Length >= \" + row_filter  \n",
    "    result = master_index.where(col(\"Doc_ID\").isin(ID_list)).filter(query_3).select(master_index.Table_Name)\n",
    "    \n",
    "    \n",
    "    return result.show()"
   ]
  },
  {
   "cell_type": "code",
   "execution_count": 206,
   "metadata": {
    "collapsed": true
   },
   "outputs": [],
   "source": [
    "def content_search(words,row_filter):\n",
    "    if row_filter == 'n' or 'N':\n",
    "        min_row = 0\n",
    "    else:\n",
    "        min_row = int(row_filter)\n",
    "        \n",
    "    new_list = ['\"%' + w.strip().lower() + '%\"' for w in words]\n",
    "    query_1 = \"SELECT docs FROM content_search_index WHERE key like\"  \n",
    "    query_2 = ' OR '.join(new_list)\n",
    "    query = query_1 + query_2 \n",
    "    \n",
    "    ID_list = spark.sql(query).collect()[0][0]\n",
    "    \n",
    "    query_3 = \"AND File_Length >= \" + row_filter  \n",
    "    result = master_index.where(col(\"Doc_ID\").isin(ID_list)).filter(query_3).select(master_index.Table_Name)\n",
    "    \n",
    "    return result.show()"
   ]
  },
  {
   "cell_type": "code",
   "execution_count": null,
   "metadata": {
    "collapsed": true
   },
   "outputs": [],
   "source": [
    "def main():\n",
    "    '''\n",
    "    Run the program!\n",
    "    '''\n",
    "    search_type, keywords, row_filter = prompt()\n",
    "    \n",
    "    for search in search_type:\n",
    "        if search == '1':\n",
    "            title_result = title_search(keywords,row_filter)\n",
    "            \n",
    "        elif search == '2':\n",
    "            column_result = column_search(keywords,row_filter)\n",
    "            \n",
    "        else:\n",
    "            content_result = content_search(keywords,row_filter)\n",
    "    \n",
    "    getInput(search_type,words,row_filter)\n",
    "    \n",
    "    print('Your results', '\\n', 'titles: ', title_result, '\\n', 'columns:')\n",
    "    "
   ]
  },
  {
   "cell_type": "code",
   "execution_count": null,
   "metadata": {
    "collapsed": true
   },
   "outputs": [],
   "source": [
    "f__name__== \"__main__\":\n",
    "    main()"
   ]
  },
  {
   "cell_type": "code",
   "execution_count": null,
   "metadata": {},
   "outputs": [],
   "source": []
  },
  {
   "cell_type": "code",
   "execution_count": null,
   "metadata": {},
   "outputs": [],
   "source": []
  },
  {
   "cell_type": "code",
   "execution_count": null,
   "metadata": {
    "collapsed": true
   },
   "outputs": [],
   "source": []
  }
 ],
 "metadata": {
  "kernelspec": {
   "display_name": "Python 3",
   "language": "python",
   "name": "python3"
  },
  "language_info": {
   "codemirror_mode": {
    "name": "ipython",
    "version": 3
   },
   "file_extension": ".py",
   "mimetype": "text/x-python",
   "name": "python",
   "nbconvert_exporter": "python",
   "pygments_lexer": "ipython3",
   "version": "3.6.0"
  }
 },
 "nbformat": 4,
 "nbformat_minor": 2
}
