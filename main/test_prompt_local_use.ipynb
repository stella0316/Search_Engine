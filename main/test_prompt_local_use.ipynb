{
 "cells": [
  {
   "cell_type": "code",
   "execution_count": 1,
   "metadata": {
    "collapsed": true
   },
   "outputs": [],
   "source": [
    "import pandas as pd\n",
    "import os\n",
    "import sys\n",
    "from pyspark.sql.functions import format_string,date_format\n",
    "from pyspark.sql import SparkSession"
   ]
  },
  {
   "cell_type": "code",
   "execution_count": null,
   "metadata": {
    "collapsed": true
   },
   "outputs": [],
   "source": []
  },
  {
   "cell_type": "code",
   "execution_count": 5,
   "metadata": {
    "collapsed": true
   },
   "outputs": [],
   "source": [
    "def prompt():\n",
    "    \n",
    "    while True:\n",
    "        search_type = input(\"Select type(s) of search you want to do:\\n 1 = Title, 2= Column, 3= Content.\\n Separate by space. You can select multiple\\n\")\n",
    "\n",
    "\n",
    "        values = search_type.split(',')\n",
    "        wrong=False\n",
    "\n",
    "        for i in values:\n",
    "\n",
    "            if i not in ['1','2','3']:\n",
    "                print('Input can only be integers: 1,2,3 separated by comma')\n",
    "                wrong = True\n",
    "                \n",
    "            if wrong==True:\n",
    "                continue\n",
    "                \n",
    "        if wrong==False:\n",
    "            break\n",
    "    \n",
    "            \n",
    "    keywords = input(\"Enter keywords for your search separated by comma\")\n",
    "\n",
    "    while len(keywords) == 0 or keywords == ' ':\n",
    "        print('Please enter valid input')\n",
    "        keywords = input(\"Enter keywords for your search separated by comma\")\n",
    "\n",
    "    words = keywords.split(',')\n",
    "\n",
    "    #Filter\n",
    "    row_filter = input(\"Filter. Please enter minimum number of rows per table. Enter n to ignore\")\n",
    "\n",
    "    while len(row_filter) != 1:\n",
    "        print('Please enter valid input')\n",
    "        row_filter = input(\"Filter. Please enter minimum number of rows per table. Enter n to ignore\")\n",
    "\n",
    "    if row_filter == 'n':\n",
    "        pass\n",
    "    else:\n",
    "        while True:\n",
    "            try:\n",
    "                row_filter = int(row_filter)\n",
    "                break\n",
    "            except ValueError:\n",
    "                print('Please enter valid input')\n",
    "                row_filter = input(\"Filter. Please enter minimum number of rows per table. Enter n to ignore\")\n",
    "                \n",
    "    return search_type, words, row_filter\n",
    "\n",
    "                    \n",
    "                  \n",
    "                    "
   ]
  },
  {
   "cell_type": "code",
   "execution_count": 10,
   "metadata": {},
   "outputs": [
    {
     "name": "stdout",
     "output_type": "stream",
     "text": [
      "Select type(s) of search you want to do:\n",
      " 1 = Title, 2= Column, 3= Content.\n",
      " Separate by space. You can select multiple\n",
      "1,2\n",
      "Enter keywords for your search separated by commanew\n",
      "Filter. Please enter minimum number of rows per table. Enter n to ignore4\n"
     ]
    }
   ],
   "source": [
    "search_type, words, row_filter = prompt()"
   ]
  },
  {
   "cell_type": "code",
   "execution_count": 11,
   "metadata": {},
   "outputs": [
    {
     "data": {
      "text/plain": [
       "'1,2'"
      ]
     },
     "execution_count": 11,
     "metadata": {},
     "output_type": "execute_result"
    }
   ],
   "source": [
    "search_type"
   ]
  },
  {
   "cell_type": "code",
   "execution_count": null,
   "metadata": {
    "collapsed": true
   },
   "outputs": [],
   "source": []
  },
  {
   "cell_type": "markdown",
   "metadata": {},
   "source": [
    "    Functions to query from tables using spark.sql\n",
    "   "
   ]
  },
  {
   "cell_type": "code",
   "execution_count": null,
   "metadata": {
    "collapsed": true
   },
   "outputs": [],
   "source": [
    "spark = SparkSession \\\n",
    "        .builder \\\n",
    "        .appName(\"Python Spark Search Engine Project\") \\\n",
    "        .config(\"spark.some.config.option\", \"some-value\") \\\n",
    "        .getOrCreate()\n",
    "        \n",
    "sc = spark.sparkContext\n",
    "\n",
    "#read all inverted_index files into rdd\n",
    "#all inverted_index should have the following format:\n",
    "#key\\tcount\\t(doc1,doc2,...)\n",
    "title_line = sc.textFile(sys.argv[1])\n",
    "column_line = sc.textFile(sys.argv[2])\n",
    "content_line = sc.textFile(sys.argv[3])\n",
    "\n",
    "#map to rdds\n",
    "title_parts = title_line.map(lambda l: l.split(\"\\t\"))\n",
    "title_rdd =  title_parts.map(lambda p: Row(key= p[0], count = int(p[1]), docs = [int(p_.replace(\"'\",'')) for p_ in p[2].split(',')]))\n",
    "\n",
    "column_parts = column_line.map(lambda l: l.split(\"\\t\"))\n",
    "column_rdd =  column_parts.map(lambda p: Row(key= p[0], count = int(p[1]), docs = [int(p_.replace(\"'\",'')) for p_ in p[2].split(',')]))\n",
    "\n",
    "content_parts = content_line.map(lambda l: l.split(\"\\t\"))\n",
    "content_rdd =  content_parts.map(lambda p: Row(key= p[0], count = int(p[1]), docs = [int(p_.replace(\"'\",'')) for p_ in p[2].split(',')]))\n",
    "\n",
    "\n",
    "#create table from rdds\n",
    "title_search_index = spark.createDataFrame(title_rdd)\n",
    "column_search_index = spark.createDataFrame(column_rdd)\n",
    "content_search_index = spark.createDataFrame(content_rdd)\n",
    "\n",
    "#create temp view\n",
    "title_search_index.createOrReplaceTempView(\"title_search_index\")\n",
    "column_search_index.createOrReplaceTempView(\"column_search_index\")\n",
    "content_search_index.createOrReplaceTempView(\"content_search_index\")\n",
    "\n",
    "\n",
    "#read master_index \n",
    "master_index = sc.textFile(sys.argv[4])\n",
    "master_index.createOrReplaceTempView(\"master_index\")\n",
    "\n",
    "#read all rdds for raw data"
   ]
  },
  {
   "cell_type": "code",
   "execution_count": null,
   "metadata": {
    "collapsed": true
   },
   "outputs": [],
   "source": []
  },
  {
   "cell_type": "code",
   "execution_count": 13,
   "metadata": {
    "collapsed": true
   },
   "outputs": [],
   "source": [
    "def getInput(search_type,words,row_filter):\n",
    "    types = search_type.split(',')\n",
    "    for t in types:\n",
    "        function_dict[search_type_dict[t]](words,row_filter)"
   ]
  },
  {
   "cell_type": "code",
   "execution_count": 8,
   "metadata": {
    "collapsed": true
   },
   "outputs": [],
   "source": [
    "def title_search(words,row_filter):\n",
    "    if row_filter == 'n' or 'N':\n",
    "        min_row = 0\n",
    "    else:\n",
    "        min_row = int(row_filter)\n",
    "  \n",
    "    new_list = ['\"%' + w.strip().lower() + '%\"' for w in words]\n",
    "    ID_list = list()\n",
    "    for w in new_list:\n",
    "        query = \"SELECT docs FROM title_search_index WHERE key like %s\" % w  \n",
    "        try:\n",
    "            IDs = spark.sql(query).collect()[0][0]\n",
    "        except IndexError:\n",
    "            continue\n",
    "        ID_list.append(IDs)\n",
    "    \n",
    "    if len(ID_list) == 0:\n",
    "        result = 'Sorry, nothing matches, try a different keyword'\n",
    "    else:\n",
    "        re = set(ID_list[0])\n",
    "        for s in ID_list[1:]:\n",
    "            re.intersection_update(s)\n",
    "        re = list(re)\n",
    "\n",
    "        query_2 = \"Table_Length >= \" + row_filter  \n",
    "        #result = master_index.where(col(\"Doc_ID\").isin(re)).filter(query_3).select(master_index.Table_Name)\n",
    "    \n",
    "    return query"
   ]
  },
  {
   "cell_type": "code",
   "execution_count": 9,
   "metadata": {},
   "outputs": [
    {
     "ename": "NameError",
     "evalue": "name 'spark' is not defined",
     "output_type": "error",
     "traceback": [
      "\u001b[0;31m---------------------------------------------------------------------------\u001b[0m",
      "\u001b[0;31mNameError\u001b[0m                                 Traceback (most recent call last)",
      "\u001b[0;32m<ipython-input-9-8a96cc1d01a9>\u001b[0m in \u001b[0;36m<module>\u001b[0;34m()\u001b[0m\n\u001b[0;32m----> 1\u001b[0;31m \u001b[0mtitle_search\u001b[0m\u001b[0;34m(\u001b[0m\u001b[0mwords\u001b[0m\u001b[0;34m,\u001b[0m\u001b[0mrow_filter\u001b[0m\u001b[0;34m)\u001b[0m\u001b[0;34m\u001b[0m\u001b[0m\n\u001b[0m",
      "\u001b[0;32m<ipython-input-8-053f6c7e7911>\u001b[0m in \u001b[0;36mtitle_search\u001b[0;34m(words, row_filter)\u001b[0m\n\u001b[1;32m     10\u001b[0m         \u001b[0mquery\u001b[0m \u001b[0;34m=\u001b[0m \u001b[0;34m\"SELECT docs FROM title_search_index WHERE key like %s\"\u001b[0m \u001b[0;34m%\u001b[0m \u001b[0mw\u001b[0m\u001b[0;34m\u001b[0m\u001b[0m\n\u001b[1;32m     11\u001b[0m         \u001b[0;32mtry\u001b[0m\u001b[0;34m:\u001b[0m\u001b[0;34m\u001b[0m\u001b[0m\n\u001b[0;32m---> 12\u001b[0;31m             \u001b[0mIDs\u001b[0m \u001b[0;34m=\u001b[0m \u001b[0mspark\u001b[0m\u001b[0;34m.\u001b[0m\u001b[0msql\u001b[0m\u001b[0;34m(\u001b[0m\u001b[0mquery\u001b[0m\u001b[0;34m)\u001b[0m\u001b[0;34m.\u001b[0m\u001b[0mcollect\u001b[0m\u001b[0;34m(\u001b[0m\u001b[0;34m)\u001b[0m\u001b[0;34m[\u001b[0m\u001b[0;36m0\u001b[0m\u001b[0;34m]\u001b[0m\u001b[0;34m[\u001b[0m\u001b[0;36m0\u001b[0m\u001b[0;34m]\u001b[0m\u001b[0;34m\u001b[0m\u001b[0m\n\u001b[0m\u001b[1;32m     13\u001b[0m         \u001b[0;32mexcept\u001b[0m \u001b[0mIndexError\u001b[0m\u001b[0;34m:\u001b[0m\u001b[0;34m\u001b[0m\u001b[0m\n\u001b[1;32m     14\u001b[0m             \u001b[0;32mcontinue\u001b[0m\u001b[0;34m\u001b[0m\u001b[0m\n",
      "\u001b[0;31mNameError\u001b[0m: name 'spark' is not defined"
     ]
    }
   ],
   "source": [
    "title_search(words,row_filter)"
   ]
  },
  {
   "cell_type": "code",
   "execution_count": null,
   "metadata": {
    "collapsed": true
   },
   "outputs": [],
   "source": []
  },
  {
   "cell_type": "code",
   "execution_count": null,
   "metadata": {
    "collapsed": true
   },
   "outputs": [],
   "source": []
  },
  {
   "cell_type": "code",
   "execution_count": null,
   "metadata": {
    "collapsed": true
   },
   "outputs": [],
   "source": []
  },
  {
   "cell_type": "code",
   "execution_count": 6,
   "metadata": {
    "collapsed": true
   },
   "outputs": [],
   "source": [
    "def column_search(words,row_filter):\n",
    "    if row_filter == 'n' or 'N':\n",
    "        min_row = 0\n",
    "    else:\n",
    "        min_row = int(row_filter)\n",
    "  \n",
    "    new_list = ['\"%' + w.strip().lower() + '%\"' for w in words]\n",
    "    ID_list = list()\n",
    "    for w in new_list:\n",
    "        query = \"SELECT docs FROM column_search_index WHERE key like %s\" % w  \n",
    "        IDs = spark.sql(query).collect()[0][0]\n",
    "        ID_list.append(IDs)\n",
    "        \n",
    "    re = set(ID_list[0])\n",
    "    for s in ID_list[1:]:\n",
    "        re.intersection_update(s)\n",
    "    re = list(re)\n",
    "\n",
    "    query_2 = \"Table_Length >= \" + row_filter  \n",
    "    result = master_index.where(col(\"Doc_ID\").isin(re)).filter(query_3).select(master_index.Table_Name)\n",
    "    \n",
    "    return result.show()"
   ]
  },
  {
   "cell_type": "code",
   "execution_count": 1,
   "metadata": {
    "collapsed": true
   },
   "outputs": [],
   "source": [
    "def content_search(words,row_filter):\n",
    "    if row_filter == 'n' or 'N':\n",
    "        min_row = 0\n",
    "    else:\n",
    "        min_row = int(row_filter)\n",
    "  \n",
    "    new_list = ['\"%' + w.strip().lower() + '%\"' for w in words]\n",
    "    ID_list = list()\n",
    "    for w in new_list:\n",
    "        query = \"SELECT docs FROM content_search_index WHERE key like %s\" % w  \n",
    "        IDs = spark.sql(query).collect()[0][0]\n",
    "        ID_list.append(IDs)\n",
    "        \n",
    "    re = set(ID_list[0])\n",
    "    for s in ID_list[1:]:\n",
    "        re.intersection_update(s)\n",
    "    re = list(re)\n",
    "\n",
    "    query_2 = \"Table_Length >= \" + row_filter  \n",
    "    result = master_index.where(col(\"Doc_ID\").isin(re)).filter(query_3).select(master_index.Table_Name)\n",
    "    \n",
    "    return result.show()"
   ]
  },
  {
   "cell_type": "code",
   "execution_count": 8,
   "metadata": {
    "collapsed": true
   },
   "outputs": [],
   "source": []
  },
  {
   "cell_type": "code",
   "execution_count": 8,
   "metadata": {},
   "outputs": [
    {
     "name": "stdout",
     "output_type": "stream",
     "text": [
      "Select type(s) of search you want to do:\n",
      " 1 = Title, 2= Column, 3= Content.\n",
      " Separate by space. You can select multiple\n",
      "1,2\n",
      "Enter keywords for your search separated by commanew\n",
      "Filter. Please enter minimum number of rows per table. Enter n to ignoren\n"
     ]
    }
   ],
   "source": [
    "if __name__== \"__main__\":\n",
    "    search_type, words, row_filter = prompt()\n",
    "    file = open('testfile.txt', 'w')\n",
    "    file.write('%s' % search_type) \n",
    "    file.write('%s' % words)\n",
    "    file.write('%s' % row_filter)\n",
    "    file.close()"
   ]
  },
  {
   "cell_type": "code",
   "execution_count": null,
   "metadata": {
    "collapsed": true
   },
   "outputs": [],
   "source": []
  },
  {
   "cell_type": "code",
   "execution_count": null,
   "metadata": {
    "collapsed": true
   },
   "outputs": [],
   "source": []
  },
  {
   "cell_type": "code",
   "execution_count": null,
   "metadata": {
    "collapsed": true
   },
   "outputs": [],
   "source": []
  }
 ],
 "metadata": {
  "kernelspec": {
   "display_name": "Python 3",
   "language": "python",
   "name": "python3"
  },
  "language_info": {
   "codemirror_mode": {
    "name": "ipython",
    "version": 3
   },
   "file_extension": ".py",
   "mimetype": "text/x-python",
   "name": "python",
   "nbconvert_exporter": "python",
   "pygments_lexer": "ipython3",
   "version": "3.6.0"
  }
 },
 "nbformat": 4,
 "nbformat_minor": 2
}
