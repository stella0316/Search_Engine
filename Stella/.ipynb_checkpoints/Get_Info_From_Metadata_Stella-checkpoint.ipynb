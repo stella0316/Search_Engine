{
 "cells": [
  {
   "cell_type": "code",
   "execution_count": 1,
   "metadata": {
    "collapsed": true
   },
   "outputs": [],
   "source": [
    "import pandas as pd\n",
    "import json\n",
    "import os\n",
    "import numpy as np"
   ]
  },
  {
   "cell_type": "code",
   "execution_count": 4,
   "metadata": {},
   "outputs": [],
   "source": [
    "#list all json files\n",
    "filepath = '../Getting_data/metadata/'\n",
    "file_list = os.listdir(filepath)"
   ]
  },
  {
   "cell_type": "code",
   "execution_count": 5,
   "metadata": {
    "collapsed": true
   },
   "outputs": [],
   "source": [
    "table_name = list()\n",
    "schema_list = list()\n",
    "column_number = list()\n",
    "for f in file_list:\n",
    "    if f.endswith('.json'):\n",
    "        with open(filepath+'/'+ f) as data_file:\n",
    "            data = json.load(data_file)\n",
    "            table_name.append(data['name'])\n",
    "            number_of_columns = len(data['columns'])\n",
    "            column_number.append(number_of_columns)\n",
    "            #get each column name and data type\n",
    "            schema = dict()\n",
    "            for i in range(number_of_columns):\n",
    "                schema[data['columns'][i]['name']] = data['columns'][i]['dataTypeName']\n",
    "            schema_list.append(schema)\n",
    "            \n",
    "                "
   ]
  },
  {
   "cell_type": "code",
   "execution_count": 6,
   "metadata": {
    "collapsed": true
   },
   "outputs": [],
   "source": [
    "ID = np.arange(len(table_name))"
   ]
  },
  {
   "cell_type": "code",
   "execution_count": 7,
   "metadata": {},
   "outputs": [
    {
     "data": {
      "text/plain": [
       "[{'Domain Name ': 'text',\n",
       "  'Domain Registration Date ': 'calendar_date',\n",
       "  'Nexus Category': 'text'},\n",
       " {'Category': 'text',\n",
       "  'DBN': 'text',\n",
       "  'Grade': 'text',\n",
       "  'Level 1 #': 'number',\n",
       "  'Level 1 %': 'number',\n",
       "  'Level 2 #': 'number',\n",
       "  'Level 2 %': 'number',\n",
       "  'Level 3 #': 'number',\n",
       "  'Level 3 %': 'number',\n",
       "  'Level 3+4 #': 'number',\n",
       "  'Level 3+4 %': 'number',\n",
       "  'Level 4 #': 'number',\n",
       "  'Level 4 %': 'number',\n",
       "  'Mean Scale Score': 'number',\n",
       "  'Number Tested': 'number',\n",
       "  'Year': 'text'},\n",
       " {'AVERAGE CLASS SIZE': 'number',\n",
       "  'BOROUGH': 'text',\n",
       "  'CORE COURSE (MS CORE and 9-12 ONLY)': 'text',\n",
       "  'CORE SUBJECT (MS CORE and 9-12 ONLY)': 'text',\n",
       "  'CSD': 'number',\n",
       "  'DATA SOURCE': 'text',\n",
       "  'GRADE ': 'text',\n",
       "  'NUMBER OF SECTIONS': 'number',\n",
       "  'NUMBER OF STUDENTS / SEATS FILLED': 'number',\n",
       "  'PROGRAM TYPE': 'text',\n",
       "  'SCHOOL CODE': 'text',\n",
       "  'SCHOOL NAME': 'text',\n",
       "  'SCHOOLWIDE PUPIL-TEACHER RATIO': 'number',\n",
       "  'SERVICE CATEGORY(K-9* ONLY)': 'text',\n",
       "  'SIZE OF LARGEST CLASS': 'number',\n",
       "  'SIZE OF SMALLEST CLASS': 'number'},\n",
       " {'AGENCY': 'text',\n",
       "  'AGENCY_NAME': 'text',\n",
       "  'BRIEF_DESCRIPTION': 'text',\n",
       "  'CALL_RESOLUTION': 'text',\n",
       "  'DATE': 'calendar_date',\n",
       "  'DATE_TIME': 'calendar_date',\n",
       "  'INQUIRY_NAME': 'text',\n",
       "  'TIME': 'text',\n",
       "  'UNIQUE_ID': 'text'},\n",
       " {'Address': 'text',\n",
       "  'Agency': 'text',\n",
       "  'Allowable Building to Floor Area': 'text',\n",
       "  'Assess Land': 'text',\n",
       "  'BIN': 'number',\n",
       "  'Bldg Depth': 'text',\n",
       "  'Bldg Front': 'text',\n",
       "  'Block': 'text',\n",
       "  'Borough': 'text',\n",
       "  'Bsmt Code': 'text',\n",
       "  'Census Block': 'text',\n",
       "  'Census Tract': 'text',\n",
       "  'Commercial Floor Area': 'text',\n",
       "  'Community Board': 'text',\n",
       "  'Condominium Number': 'text',\n",
       "  'Contact': 'text',\n",
       "  'Coordinates': 'text',\n",
       "  'Council District': 'text',\n",
       "  'Current Uses': 'text',\n",
       "  'Date Created': 'calendar_date',\n",
       "  'E-Designation Number': 'text',\n",
       "  'EDC % Occupied': 'text',\n",
       "  'Exempt Land': 'text',\n",
       "  'Exempt Tot': 'text',\n",
       "  'Factory Floor Area': 'text',\n",
       "  'Fire Comp': 'text',\n",
       "  'Garage Floor Area': 'text',\n",
       "  'Govt Clean-Up Program': 'text',\n",
       "  'Health Area': 'text',\n",
       "  'Health Ctr': 'text',\n",
       "  'His Dist': 'text',\n",
       "  'Industrial Business Zone': 'text',\n",
       "  'Irr Lot Code': 'text',\n",
       "  'Land Use Category': 'text',\n",
       "  'Landmark': 'text',\n",
       "  'Latitude': 'number',\n",
       "  'Longitude': 'number',\n",
       "  'Lot': 'text',\n",
       "  'Lot Depth': 'text',\n",
       "  'Lot Front': 'text',\n",
       "  'Lot Type Code': 'text',\n",
       "  'Major Use': 'text',\n",
       "  'Map Atlas': 'text',\n",
       "  'NTA': 'text',\n",
       "  'Num Floors': 'text',\n",
       "  'Number Structures': 'text',\n",
       "  'Number of Easements': 'text',\n",
       "  'Office Floor Area': 'text',\n",
       "  'Open Petroleum Spill': 'text',\n",
       "  'Other Floor Area': 'text',\n",
       "  'Overlay 1': 'text',\n",
       "  'Overlay 2': 'text',\n",
       "  'Parcel Name': 'text',\n",
       "  'Pluto Version': 'text',\n",
       "  'Police Prct': 'text',\n",
       "  'Postcode': 'text',\n",
       "  'Potential Urban Ag': 'text',\n",
       "  'Proximity Code': 'text',\n",
       "  'Ratio Building to Floor Area': 'text',\n",
       "  'Residential Floor Area': 'text',\n",
       "  'Residential Units': 'text',\n",
       "  'Residential and Non-Residential Units': 'text',\n",
       "  'Retail Floor Area': 'text',\n",
       "  'SP Dist 1': 'text',\n",
       "  'SP Dist 2': 'text',\n",
       "  'School Dist': 'text',\n",
       "  'Storage Floor Area': 'text',\n",
       "  'Structure Completed': 'text',\n",
       "  'Total Area': 'text',\n",
       "  'Total Gross Area Structures': 'text',\n",
       "  'Year Alter 1': 'text',\n",
       "  'Year Alter 2': 'text',\n",
       "  'Zone Dist 1': 'text',\n",
       "  'Zone Dist 2': 'text'},\n",
       " {'ACTION': 'text',\n",
       "  'BORO': 'text',\n",
       "  'BUILDING': 'text',\n",
       "  'CAMIS': 'text',\n",
       "  'CRITICAL FLAG': 'text',\n",
       "  'CUISINE DESCRIPTION': 'text',\n",
       "  'DBA': 'text',\n",
       "  'GRADE': 'text',\n",
       "  'GRADE DATE': 'calendar_date',\n",
       "  'INSPECTION DATE': 'calendar_date',\n",
       "  'INSPECTION TYPE': 'text',\n",
       "  'PHONE': 'text',\n",
       "  'RECORD DATE': 'calendar_date',\n",
       "  'SCORE': 'number',\n",
       "  'STREET': 'text',\n",
       "  'VIOLATION CODE': 'text',\n",
       "  'VIOLATION DESCRIPTION': 'text',\n",
       "  'ZIPCODE': 'text'},\n",
       " {'Acronym': 'text',\n",
       "  'CO2e (MT) Calculated': 'number',\n",
       "  'FinishDateActual': 'text',\n",
       "  'PrimaryProjectType': 'text',\n",
       "  'ProjectSiteAddress': 'text',\n",
       "  'ProjectSiteName': 'text',\n",
       "  'ProjectStatus': 'text',\n",
       "  'StartDateActual': 'text',\n",
       "  'SubType': 'text'},\n",
       " {'BBL': 'number',\n",
       "  'BIN': 'number',\n",
       "  'Block-Lot': 'text',\n",
       "  'Borough': 'text',\n",
       "  'Census Tract': 'number',\n",
       "  'CnAdrPrf_Addrline2': 'text',\n",
       "  'CnAdrPrf_City': 'text',\n",
       "  'CnAdrPrf_State': 'text',\n",
       "  'CnBio_Org_Name': 'text',\n",
       "  'Community Board': 'number',\n",
       "  'Council District': 'number',\n",
       "  'Latitude': 'number',\n",
       "  'Longitude': 'number',\n",
       "  'NTA': 'text',\n",
       "  'Number and Street': 'text',\n",
       "  'Postcode': 'number',\n",
       "  'Primary': 'text',\n",
       "  'Secondary': 'text'},\n",
       " {\"Child's First Name\": 'text',\n",
       "  'Count': 'number',\n",
       "  'Ethnicity': 'text',\n",
       "  'Gender': 'text',\n",
       "  'Rank': 'number',\n",
       "  'Year of Birth': 'number'},\n",
       " {'Address': 'text',\n",
       "  'Borough': 'text',\n",
       "  'Latitude': 'number',\n",
       "  'Longitude': 'number',\n",
       "  'Park/Site Name': 'text',\n",
       "  'Site type': 'text'}]"
      ]
     },
     "execution_count": 7,
     "metadata": {},
     "output_type": "execute_result"
    }
   ],
   "source": [
    "schema_list"
   ]
  },
  {
   "cell_type": "code",
   "execution_count": 8,
   "metadata": {},
   "outputs": [
    {
     "data": {
      "text/plain": [
       "array([0, 1, 2, 3, 4, 5, 6, 7, 8, 9])"
      ]
     },
     "execution_count": 8,
     "metadata": {},
     "output_type": "execute_result"
    }
   ],
   "source": [
    "ID"
   ]
  },
  {
   "cell_type": "code",
   "execution_count": null,
   "metadata": {
    "collapsed": true
   },
   "outputs": [],
   "source": [
    "#getting number of rows for each table\n"
   ]
  },
  {
   "cell_type": "code",
   "execution_count": 9,
   "metadata": {
    "collapsed": true
   },
   "outputs": [],
   "source": [
    "Table_Info = pd.DataFrame({'Doc_ID':ID,'Table_Name': table_name,'Table_Schema': schema_list})"
   ]
  },
  {
   "cell_type": "code",
   "execution_count": 68,
   "metadata": {
    "collapsed": true
   },
   "outputs": [],
   "source": []
  },
  {
   "cell_type": "code",
   "execution_count": 10,
   "metadata": {},
   "outputs": [
    {
     "data": {
      "text/plain": [
       "['.nyc Domain Registrations',\n",
       " '2006 - 2011 NYS Math Test Results By Grade - School Level - All Students',\n",
       " '2010-2011 Class Size - School-level detail',\n",
       " '311 Call Center Inquiry',\n",
       " 'City-owned and Leased Property (Local Law 48 of 2011)',\n",
       " 'DOHMH New York City Restaurant Inspection Results',\n",
       " 'Energy Efficiency Projects',\n",
       " 'Lower Manhattan Retailers',\n",
       " \"Most Popular Baby Names by Sex and Mother's Ethnic Group, New York City\",\n",
       " 'Public Recycling Bins']"
      ]
     },
     "execution_count": 10,
     "metadata": {},
     "output_type": "execute_result"
    }
   ],
   "source": [
    "table_name"
   ]
  },
  {
   "cell_type": "code",
   "execution_count": 27,
   "metadata": {},
   "outputs": [],
   "source": [
    "t_rows = dict()\n",
    "tablepath = '../Getting_data/data/'\n",
    "table_full_name = os.listdir(tablepath)\n",
    "for tname in table_full_name:\n",
    "    if tname.endswith('.csv'):\n",
    "        df = pd.read_csv(tablepath+tname)\n",
    "        t_rows[tname.split('.csv')[0]] = len(df)\n",
    "    \n",
    "    "
   ]
  },
  {
   "cell_type": "code",
   "execution_count": 28,
   "metadata": {},
   "outputs": [
    {
     "data": {
      "text/plain": [
       "{'.nyc Domain Registrations': 1000,\n",
       " '2006 - 2011 NYS Math Test Results By Grade - School Level - All Students': 1000,\n",
       " '2010-2011 Class Size - School-level detail': 1000,\n",
       " '311 Call Center Inquiry': 1000,\n",
       " 'City-owned and Leased Property (Local Law 48 of 2011)': 1000,\n",
       " 'DOHMH New York City Restaurant Inspection Results': 1000,\n",
       " 'Energy Efficiency Projects': 584,\n",
       " 'Lower Manhattan Retailers': 771,\n",
       " \"Most Popular Baby Names by Sex and Mother's Ethnic Group, New York City\": 1000,\n",
       " 'Public Recycling Bins': 545}"
      ]
     },
     "execution_count": 28,
     "metadata": {},
     "output_type": "execute_result"
    }
   ],
   "source": [
    "t_rows"
   ]
  },
  {
   "cell_type": "code",
   "execution_count": 30,
   "metadata": {},
   "outputs": [],
   "source": [
    "File_Length = pd.DataFrame(list(t_rows.items()), columns=['Table_Name', 'File_Length'])"
   ]
  },
  {
   "cell_type": "code",
   "execution_count": 32,
   "metadata": {},
   "outputs": [],
   "source": [
    "Table = Table_Info.merge(File_Length, on='Table_Name',how='inner')"
   ]
  },
  {
   "cell_type": "code",
   "execution_count": 33,
   "metadata": {},
   "outputs": [],
   "source": [
    "Table.to_csv(r'Table_Describe.csv')"
   ]
  },
  {
   "cell_type": "code",
   "execution_count": null,
   "metadata": {
    "collapsed": true
   },
   "outputs": [],
   "source": []
  }
 ],
 "metadata": {
  "kernelspec": {
   "display_name": "Python 3",
   "language": "python",
   "name": "python3"
  },
  "language_info": {
   "codemirror_mode": {
    "name": "ipython",
    "version": 3
   },
   "file_extension": ".py",
   "mimetype": "text/x-python",
   "name": "python",
   "nbconvert_exporter": "python",
   "pygments_lexer": "ipython3",
   "version": "3.6.0"
  }
 },
 "nbformat": 4,
 "nbformat_minor": 2
}
