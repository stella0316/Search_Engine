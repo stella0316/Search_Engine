{
 "cells": [
  {
   "cell_type": "code",
   "execution_count": 22,
   "metadata": {
    "collapsed": true
   },
   "outputs": [],
   "source": [
    "import json\n",
    "import pandas as pd\n",
    "import os"
   ]
  },
  {
   "cell_type": "code",
   "execution_count": 57,
   "metadata": {},
   "outputs": [],
   "source": [
    "json_filepath = 'json/'\n",
    "file_list = os.listdir(json_filepath)"
   ]
  },
  {
   "cell_type": "code",
   "execution_count": 59,
   "metadata": {},
   "outputs": [],
   "source": [
    "id_list = list()\n",
    "name_list = list()\n",
    "description_list = list()\n",
    "table_len_list = list()\n",
    "category_list = list()\n",
    "for f in file_list:\n",
    "    with open(json_filepath+'/'+ f) as data_file:\n",
    "        data = json.load(data_file)\n",
    "        id_list.append(data['meta']['view']['id'])\n",
    "        name_list.append(data['meta']['view']['name'])\n",
    "        description_list.append(data['meta']['view']['description'])\n",
    "        table_len_list.append(len(data['data']))\n",
    "        category_list.append(data['meta']['view']['category'])"
   ]
  },
  {
   "cell_type": "code",
   "execution_count": 60,
   "metadata": {},
   "outputs": [],
   "source": [
    "Table_Info = pd.DataFrame({'Doc_ID':id_list,'Table_Name': name_list,'Table_Descr': description_list,'Table_Length':table_len_list,'Category':category_list})"
   ]
  },
  {
   "cell_type": "code",
   "execution_count": 61,
   "metadata": {},
   "outputs": [
    {
     "data": {
      "text/html": [
       "<div>\n",
       "<table border=\"1\" class=\"dataframe\">\n",
       "  <thead>\n",
       "    <tr style=\"text-align: right;\">\n",
       "      <th></th>\n",
       "      <th>Category</th>\n",
       "      <th>Doc_ID</th>\n",
       "      <th>Table_Descr</th>\n",
       "      <th>Table_Length</th>\n",
       "      <th>Table_Name</th>\n",
       "    </tr>\n",
       "  </thead>\n",
       "  <tbody>\n",
       "    <tr>\n",
       "      <th>0</th>\n",
       "      <td>Social Services</td>\n",
       "      <td>zmut-au2w</td>\n",
       "      <td>Facilities in New York City, by agency and sit...</td>\n",
       "      <td>78</td>\n",
       "      <td>DYCD after-school programs: Immigrant Services</td>\n",
       "    </tr>\n",
       "    <tr>\n",
       "      <th>1</th>\n",
       "      <td>Education</td>\n",
       "      <td>zt9s-n5aj</td>\n",
       "      <td>New York City school level College Board SAT r...</td>\n",
       "      <td>460</td>\n",
       "      <td>2010 SAT (College Board) School Level Results</td>\n",
       "    </tr>\n",
       "  </tbody>\n",
       "</table>\n",
       "</div>"
      ],
      "text/plain": [
       "          Category     Doc_ID  \\\n",
       "0  Social Services  zmut-au2w   \n",
       "1        Education  zt9s-n5aj   \n",
       "\n",
       "                                         Table_Descr  Table_Length  \\\n",
       "0  Facilities in New York City, by agency and sit...            78   \n",
       "1  New York City school level College Board SAT r...           460   \n",
       "\n",
       "                                       Table_Name  \n",
       "0  DYCD after-school programs: Immigrant Services  \n",
       "1   2010 SAT (College Board) School Level Results  "
      ]
     },
     "execution_count": 61,
     "metadata": {},
     "output_type": "execute_result"
    }
   ],
   "source": [
    "Table_Info"
   ]
  },
  {
   "cell_type": "code",
   "execution_count": 45,
   "metadata": {},
   "outputs": [],
   "source": [
    "csv_filepath = 'raw_data/'"
   ]
  },
  {
   "cell_type": "code",
   "execution_count": 55,
   "metadata": {
    "collapsed": true
   },
   "outputs": [],
   "source": [
    "for f in file_list:\n",
    "    with open(json_filepath+'/'+ f) as data_file:\n",
    "        data = json.load(data_file)\n",
    "        columns = list()\n",
    "        for col_info in data['meta']['view']['columns']:\n",
    "            columns.append(col_info['name'])\n",
    "        raw_csv = pd.DataFrame(data['data'],columns = columns)\n",
    "        name = data['meta']['view']['name']\n",
    "        raw_csv.to_csv(csv_filepath+name+'.csv',index=False)\n",
    "        \n",
    "        \n",
    "       "
   ]
  },
  {
   "cell_type": "code",
   "execution_count": 53,
   "metadata": {},
   "outputs": [],
   "source": []
  },
  {
   "cell_type": "code",
   "execution_count": null,
   "metadata": {},
   "outputs": [],
   "source": []
  },
  {
   "cell_type": "code",
   "execution_count": null,
   "metadata": {
    "collapsed": true
   },
   "outputs": [],
   "source": []
  }
 ],
 "metadata": {
  "kernelspec": {
   "display_name": "Python 3",
   "language": "python",
   "name": "python3"
  },
  "language_info": {
   "codemirror_mode": {
    "name": "ipython",
    "version": 3
   },
   "file_extension": ".py",
   "mimetype": "text/x-python",
   "name": "python",
   "nbconvert_exporter": "python",
   "pygments_lexer": "ipython3",
   "version": "3.6.0"
  }
 },
 "nbformat": 4,
 "nbformat_minor": 2
}
