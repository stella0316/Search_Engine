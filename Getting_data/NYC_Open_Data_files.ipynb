{
 "cells": [
  {
   "cell_type": "code",
   "execution_count": 57,
   "metadata": {
    "collapsed": true
   },
   "outputs": [],
   "source": [
    "import pandas as pd\n",
    "from sodapy import Socrata\n",
    "import json"
   ]
  },
  {
   "cell_type": "code",
   "execution_count": 3,
   "metadata": {
    "collapsed": true
   },
   "outputs": [],
   "source": [
    "socrata_domain = 'data.cityofnewyork.us'\n",
    "socrata_token = None #can be replaced with a registered token"
   ]
  },
  {
   "cell_type": "code",
   "execution_count": 87,
   "metadata": {},
   "outputs": [],
   "source": [
    "#List of identifiers from NYC Open Data by topic\n",
    "\n",
    "business = ['uyz2-yxi9', 'r87z-532j']\n",
    "government = ['wewp-mm3p', 'pgkx-n4i6']\n",
    "education = ['qgts-mthv', 'drfh-35iw']\n",
    "environment = ['ggvk-gyea','fgep-qap9']\n",
    "health = ['9w7m-hzhe','g374-eanh']\n"
   ]
  },
  {
   "cell_type": "code",
   "execution_count": 4,
   "metadata": {},
   "outputs": [
    {
     "name": "stderr",
     "output_type": "stream",
     "text": [
      "WARNING:root:Requests made without an app_token will be subject to strict throttling limits.\n"
     ]
    },
    {
     "name": "stdout",
     "output_type": "stream",
     "text": [
      "Domain: data.cityofnewyork.us\n",
      "Session: <requests.sessions.Session object at 0x1167479e8>\n",
      "URI Prefix: https://\n"
     ]
    }
   ],
   "source": [
    "#Initialize session\n",
    "client = Socrata(socrata_domain, socrata_token)\n",
    "print(\"Domain: {domain:}\\nSession: {session:}\\nURI Prefix: {uri_prefix:}\".format(**client.__dict__))"
   ]
  },
  {
   "cell_type": "code",
   "execution_count": 112,
   "metadata": {
    "collapsed": true
   },
   "outputs": [],
   "source": [
    "def save_data(category):\n",
    "    '''\n",
    "    Saves data table as csv and metadata as JSON file\n",
    "    '''\n",
    "    for identifier in category:\n",
    "        #get table and save it in csv\n",
    "        results = client.get(identifier)\n",
    "        df = pd.DataFrame.from_dict(results)\n",
    "        metadata = client.get_metadata(identifier)\n",
    "        filename = metadata['name']\n",
    "        df.to_csv('data/'+filename+'.csv',index=False)\n",
    "        \n",
    "        #select metadata to write in json format\n",
    "        select_keys = ['id','name','columns','category','metadata']\n",
    "        select_metadata = { key: metadata[key] for key in select_keys }\n",
    "        with open('data/'+filename +'.json','w') as file:\n",
    "            json.dump(select_metadata,file)\n",
    "        \n",
    "        print(\"Done with: \", filename)"
   ]
  },
  {
   "cell_type": "code",
   "execution_count": 113,
   "metadata": {},
   "outputs": [
    {
     "name": "stdout",
     "output_type": "stream",
     "text": [
      "Done with:  Lower Manhattan Retailers\n",
      "Done with:  .nyc Domain Registrations\n",
      "Done with:  311 Call Center Inquiry\n",
      "Done with:  City-owned and Leased Property (Local Law 48 of 2011)\n",
      "Done with:  2010-2011 Class Size - School-level detail\n",
      "Done with:  2006 - 2011 NYS Math Test Results By Grade - School Level - All Students\n",
      "Done with:  Public Recycling Bins\n",
      "Done with:  Energy Efficiency Projects\n",
      "Done with:  DOHMH New York City Restaurant Inspection Results\n",
      "Done with:  Most Popular Baby Names by Sex and Mother's Ethnic Group, New York City\n"
     ]
    }
   ],
   "source": [
    "#Run as save files\n",
    "topics = [business,government,education,environment,health]\n",
    "\n",
    "for topic in topics:\n",
    "    save_data(topic)"
   ]
  },
  {
   "cell_type": "markdown",
   "metadata": {},
   "source": [
    "Metadata contains information that could be used for more efficiently searching the file.\n",
    "\n",
    "- Name = dataset name\n",
    "- ID = unique id of the dataset\n",
    "- Columns = information about each column of the dataset, such as name, cardinality, number of Nulls, smallest and largest values, top 10 values by count, data type (integer, text etc), format."
   ]
  }
 ],
 "metadata": {
  "kernelspec": {
   "display_name": "Python 3",
   "language": "python",
   "name": "python3"
  },
  "language_info": {
   "codemirror_mode": {
    "name": "ipython",
    "version": 3
   },
   "file_extension": ".py",
   "mimetype": "text/x-python",
   "name": "python",
   "nbconvert_exporter": "python",
   "pygments_lexer": "ipython3",
   "version": "3.6.1"
  }
 },
 "nbformat": 4,
 "nbformat_minor": 2
}
